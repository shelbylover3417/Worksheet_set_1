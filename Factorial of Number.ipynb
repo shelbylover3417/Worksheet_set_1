{
 "cells": [
  {
   "cell_type": "markdown",
   "id": "e2e6f4a1",
   "metadata": {},
   "source": [
    "# FACTORIAL Of a NUMBER "
   ]
  },
  {
   "cell_type": "code",
   "execution_count": 1,
   "id": "cbf80eff",
   "metadata": {},
   "outputs": [
    {
     "name": "stdout",
     "output_type": "stream",
     "text": [
      "Enter a number: 69\n",
      "The factorial of the number is 171122452428141311372468338881272839092270544893520369393648040923257279754140647424000000000000000\n"
     ]
    }
   ],
   "source": [
    "a = int(input(\"Enter a number: \")) \n",
    "f = 1 \n",
    "for i in range(1,a+1): \n",
    "\tf = f * i \n",
    " \n",
    "print(f'The factorial of the number is {f}')"
   ]
  },
  {
   "cell_type": "code",
   "execution_count": 2,
   "id": "50ffc80d",
   "metadata": {},
   "outputs": [
    {
     "name": "stdout",
     "output_type": "stream",
     "text": [
      "Enter a number: 1\n",
      "The factorial of the number is 1\n"
     ]
    }
   ],
   "source": [
    "a = int(input(\"Enter a number: \")) \n",
    "f = 1 \n",
    "for i in range(1,a+1): \n",
    "\tf = f * i \n",
    " \n",
    "print(f'The factorial of the number is {f}') "
   ]
  },
  {
   "cell_type": "code",
   "execution_count": 3,
   "id": "da7bbb5b",
   "metadata": {},
   "outputs": [
    {
     "name": "stdout",
     "output_type": "stream",
     "text": [
      "Enter a number: 5\n",
      "The factorial of the number is 120\n"
     ]
    }
   ],
   "source": [
    "a = int(input(\"Enter a number: \")) \n",
    "f = 1 \n",
    "for i in range(1,a+1): \n",
    "\tf = f * i \n",
    " \n",
    "print(f'The factorial of the number is {f}') "
   ]
  },
  {
   "cell_type": "code",
   "execution_count": null,
   "id": "2ae4eee0",
   "metadata": {},
   "outputs": [],
   "source": [
    "a = int(input(\"Enter a number: \")) \n",
    "f = 1 \n",
    "for i in range(1,a+1): \n",
    "\tf = f * i \n",
    " \n",
    "print(f'The factorial of the number is {f}') "
   ]
  },
  {
   "cell_type": "code",
   "execution_count": null,
   "id": "2d07aa12",
   "metadata": {},
   "outputs": [],
   "source": []
  }
 ],
 "metadata": {
  "kernelspec": {
   "display_name": "Python 3 (ipykernel)",
   "language": "python",
   "name": "python3"
  },
  "language_info": {
   "codemirror_mode": {
    "name": "ipython",
    "version": 3
   },
   "file_extension": ".py",
   "mimetype": "text/x-python",
   "name": "python",
   "nbconvert_exporter": "python",
   "pygments_lexer": "ipython3",
   "version": "3.9.7"
  }
 },
 "nbformat": 4,
 "nbformat_minor": 5
}
