{
 "cells": [
  {
   "cell_type": "markdown",
   "id": "3f165f95",
   "metadata": {},
   "source": [
    "# frequency of each of the characters present in a given string"
   ]
  },
  {
   "cell_type": "code",
   "execution_count": 1,
   "id": "9ece613d",
   "metadata": {},
   "outputs": [
    {
     "name": "stdout",
     "output_type": "stream",
     "text": [
      "Given String:  timeofeffort\n",
      "Frequency of each character :\n",
      "  {'o': 2, 't': 2, 'm': 1, 'i': 1, 'f': 3, 'r': 1, 'e': 2}\n"
     ]
    }
   ],
   "source": [
    "# Given string\n",
    "strA = \"timeofeffort\"\n",
    "print(\"Given String: \",strA)\n",
    "# Using counter\n",
    "res = {}\n",
    "\n",
    "res={n: strA.count(n) for n in set(strA)}\n",
    "\n",
    "# Result\n",
    "print(\"Frequency of each character :\\n \",res)"
   ]
  },
  {
   "cell_type": "code",
   "execution_count": null,
   "id": "e8a00376",
   "metadata": {},
   "outputs": [],
   "source": []
  }
 ],
 "metadata": {
  "kernelspec": {
   "display_name": "Python 3 (ipykernel)",
   "language": "python",
   "name": "python3"
  },
  "language_info": {
   "codemirror_mode": {
    "name": "ipython",
    "version": 3
   },
   "file_extension": ".py",
   "mimetype": "text/x-python",
   "name": "python",
   "nbconvert_exporter": "python",
   "pygments_lexer": "ipython3",
   "version": "3.9.7"
  }
 },
 "nbformat": 4,
 "nbformat_minor": 5
}
